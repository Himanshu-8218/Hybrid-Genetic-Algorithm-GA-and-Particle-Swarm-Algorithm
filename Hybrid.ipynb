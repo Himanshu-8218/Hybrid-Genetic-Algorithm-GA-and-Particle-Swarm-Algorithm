{
 "cells": [
  {
   "cell_type": "markdown",
   "metadata": {},
   "source": [
    "### A Hybrid Genetic Algorithm-Particle Swarm Optimization Framework to Enhance Network Intrusion Detection Systems"
   ]
  },
  {
   "cell_type": "code",
   "execution_count": 113,
   "metadata": {},
   "outputs": [],
   "source": [
    "import numpy as np\n",
    "import random\n",
    "from sklearn.model_selection import train_test_split\n",
    "from sklearn.metrics import accuracy_score\n",
    "from sklearn.neighbors import KNeighborsClassifier\n",
    "import matplotlib.pyplot as plt\n",
    "from sklearn.datasets import load_digits"
   ]
  },
  {
   "cell_type": "code",
   "execution_count": 114,
   "metadata": {},
   "outputs": [],
   "source": [
    "digit=load_digits()"
   ]
  },
  {
   "cell_type": "code",
   "execution_count": 115,
   "metadata": {},
   "outputs": [
    {
     "data": {
      "text/plain": [
       "['DESCR', 'data', 'feature_names', 'frame', 'images', 'target', 'target_names']"
      ]
     },
     "execution_count": 115,
     "metadata": {},
     "output_type": "execute_result"
    }
   ],
   "source": [
    "dir(digit)"
   ]
  },
  {
   "cell_type": "code",
   "execution_count": 119,
   "metadata": {},
   "outputs": [
    {
     "name": "stdout",
     "output_type": "stream",
     "text": [
      "2\n"
     ]
    },
    {
     "data": {
      "text/plain": [
       "<Figure size 432x288 with 0 Axes>"
      ]
     },
     "metadata": {},
     "output_type": "display_data"
    },
    {
     "data": {
      "image/png": "[encoded data removed]",
      "text/plain": [
       "<Figure size 288x288 with 1 Axes>"
      ]
     },
     "metadata": {
      "needs_background": "light"
     },
     "output_type": "display_data"
    }
   ],
   "source": [
    "plt.gray()\n",
    "plt.matshow(digit.images[2])\n",
    "print(digit.target[2])"
   ]
  },
  {
   "cell_type": "markdown",
   "metadata": {},
   "source": [
    "# Fitness model to check accuracy of model"
   ]
  },
  {
   "cell_type": "code",
   "execution_count": 79,
   "metadata": {},
   "outputs": [],
   "source": [
    "def fitness_function(params, X_train, y_train, X_test, y_test):\n",
    "    k = int(params[0])  # Example parameter: number of neighbors for KNN\n",
    "    model = KNeighborsClassifier(algorithm=\"brute\",n_neighbors=k)\n",
    "    model.fit(X_train, y_train)\n",
    "    predictions = model.predict(X_test)\n",
    "    return accuracy_score(y_test, predictions)"
   ]
  },
  {
   "cell_type": "markdown",
   "metadata": {},
   "source": [
    "# Genetic Algorithm"
   ]
  },
  {
   "cell_type": "markdown",
   "metadata": {},
   "source": [
    "### Population Initialization"
   ]
  },
  {
   "cell_type": "code",
   "execution_count": 120,
   "metadata": {},
   "outputs": [],
   "source": [
    "def init_population(pop_size, param_bounds):\n",
    "    population = []\n",
    "    for _ in range(pop_size):\n",
    "        individual = [random.randint(bounds[0], bounds[1]) for bounds in param_bounds]\n",
    "        population.append(individual)\n",
    "    return population\n",
    "# Random Sample "
   ]
  },
  {
   "cell_type": "markdown",
   "metadata": {},
   "source": [
    "### Selecting Population based on Fitness Score"
   ]
  },
  {
   "cell_type": "code",
   "execution_count": 81,
   "metadata": {},
   "outputs": [],
   "source": [
    "def selection(population, fitness_scores):\n",
    "    selected = random.choices(population, weights=fitness_scores, k=len(population))\n",
    "    return selected"
   ]
  },
  {
   "cell_type": "markdown",
   "metadata": {},
   "source": [
    "### CrossOver of Parent to new Child"
   ]
  },
  {
   "cell_type": "code",
   "execution_count": 82,
   "metadata": {},
   "outputs": [],
   "source": [
    "def crossover(parent1, parent2):\n",
    "    if(len(parent1)<2 or len(parent2)<2):\n",
    "        return parent2,parent1\n",
    "    crossover_point = random.randint(1, len(parent1) - 1)\n",
    "    child1 = parent1[:crossover_point] + parent2[crossover_point:]\n",
    "    child2 = parent2[:crossover_point] + parent1[crossover_point:]\n",
    "    return child1, child2\n"
   ]
  },
  {
   "cell_type": "markdown",
   "metadata": {},
   "source": [
    "### Mutation"
   ]
  },
  {
   "cell_type": "code",
   "execution_count": 83,
   "metadata": {},
   "outputs": [],
   "source": [
    "def mutation(individual, param_bounds, mutation_rate):\n",
    "    for i in range(len(individual)):\n",
    "        if random.random() < mutation_rate:\n",
    "            individual[i] = random.randint(param_bounds[0][0], param_bounds[0][1])\n",
    "    return individual"
   ]
  },
  {
   "cell_type": "markdown",
   "metadata": {},
   "source": [
    "# PSO"
   ]
  },
  {
   "cell_type": "markdown",
   "metadata": {},
   "source": [
    "### Particle Initialization"
   ]
  },
  {
   "cell_type": "code",
   "execution_count": 84,
   "metadata": {},
   "outputs": [],
   "source": [
    "def init_particles(pop_size, param_bounds):\n",
    "    particles = []\n",
    "    velocities = []\n",
    "    for _ in range(pop_size):\n",
    "        particle = [random.randint(bounds[0], bounds[1]) for bounds in param_bounds]\n",
    "        velocity = [random.uniform(-1, 1)]\n",
    "        particles.append(particle)\n",
    "        velocities.append(velocity)\n",
    "    return particles, velocities\n"
   ]
  },
  {
   "cell_type": "markdown",
   "metadata": {},
   "source": [
    "### Update Velocity"
   ]
  },
  {
   "cell_type": "code",
   "execution_count": 85,
   "metadata": {},
   "outputs": [],
   "source": [
    "def update_velocity(velocity, particle, best_particle, global_best, w, c1, c2):\n",
    "    for i in range(len(particle)):\n",
    "        r1, r2 = random.random(), random.random()\n",
    "        cognitive = c1 * r1 * (best_particle[i] - particle[i])\n",
    "        social = c2 * r2 * (global_best[i] - particle[i])\n",
    "        velocity[i] = w * velocity[i] + cognitive + social\n",
    "    return velocity\n"
   ]
  },
  {
   "cell_type": "markdown",
   "metadata": {},
   "source": [
    "### Update Position"
   ]
  },
  {
   "cell_type": "code",
   "execution_count": 86,
   "metadata": {},
   "outputs": [],
   "source": [
    "def update_position(particle, velocity, param_bounds):\n",
    "    for i in range(len(particle)):\n",
    "        particle[i] = int(particle[i] + velocity[i])\n",
    "        particle[i] = max(min(particle[i], param_bounds[i][1]), param_bounds[i][0])\n",
    "    return particle\n"
   ]
  },
  {
   "cell_type": "markdown",
   "metadata": {},
   "source": [
    "# Hybrid of GA and PSO"
   ]
  },
  {
   "cell_type": "code",
   "execution_count": 105,
   "metadata": {},
   "outputs": [],
   "source": [
    "def hybrid_ga_pso(X_train, y_train, X_test, y_test, param_bounds, pop_size, num_generations, w, c1, c2, mutation_rate):\n",
    "    ga_population = init_population(pop_size, param_bounds)\n",
    "    \n",
    "    pso_particles, pso_velocities = init_particles(pop_size, param_bounds)\n",
    "    pso_best_positions = pso_particles.copy()\n",
    "    pso_best_scores = [fitness_function(p, X_train, y_train, X_test, y_test) for p in pso_particles]\n",
    "    global_best_position = pso_best_positions[np.argmax(pso_best_scores)]\n",
    "    global_best_score = max(pso_best_scores)\n",
    "\n",
    "    for generation in range(num_generations):\n",
    "        ga_fitness_scores = [fitness_function(ind, X_train, y_train, X_test, y_test) for ind in ga_population]\n",
    "        \n",
    "        ga_population = selection(ga_population, ga_fitness_scores)\n",
    "        new_population = []\n",
    "        for i in range(0, len(ga_population), 2):\n",
    "            parent1, parent2 = ga_population[i], ga_population[i+1]\n",
    "            child1, child2 = crossover(parent1, parent2)\n",
    "            new_population.extend([child1, child2])\n",
    "        ga_population = new_population\n",
    "        # we applied our genetic algorithm for crossover our pso_particle\n",
    "        ga_population = [mutation(ind, param_bounds, mutation_rate) for ind in ga_population]\n",
    "        # we applied our genetic algorithm for mutate our pso_particle\n",
    "        \n",
    "        for i in range(pop_size):\n",
    "            pso_velocities[i] = update_velocity(pso_velocities[i], pso_particles[i], pso_best_positions[i], global_best_position, w, c1, c2)\n",
    "            pso_particles[i] = update_position(pso_particles[i], pso_velocities[i], param_bounds)\n",
    "            score = fitness_function(pso_particles[i], X_train, y_train, X_test, y_test)\n",
    "            if score > pso_best_scores[i]:\n",
    "                pso_best_scores[i] = score\n",
    "                pso_best_positions[i] = pso_particles[i]\n",
    "                if score > global_best_score:\n",
    "                    global_best_score = score\n",
    "                    global_best_position = pso_particles[i].copy()\n",
    "\n",
    "        combined_population = ga_population + pso_particles\n",
    "        combined_scores = ga_fitness_scores + pso_best_scores\n",
    "        combined_population = [x for _, x in sorted(zip(combined_scores, combined_population), reverse=True)]\n",
    "        ga_population = combined_population[:pop_size]\n",
    "        pso_particles = combined_population[pop_size:]\n",
    "        \n",
    "        print(f\"Generation {generation+1}: Best Score = {global_best_score}\")\n",
    "    \n",
    "    return global_best_position"
   ]
  },
  {
   "cell_type": "markdown",
   "metadata": {},
   "source": [
    "# Execution"
   ]
  },
  {
   "cell_type": "code",
   "execution_count": 106,
   "metadata": {},
   "outputs": [
    {
     "name": "stdout",
     "output_type": "stream",
     "text": [
      "Generation 1: Best Score = 0.9944444444444445\n",
      "Generation 2: Best Score = 0.9944444444444445\n",
      "Generation 3: Best Score = 0.9944444444444445\n",
      "Generation 4: Best Score = 0.9944444444444445\n",
      "Generation 5: Best Score = 0.9944444444444445\n",
      "Generation 6: Best Score = 0.9944444444444445\n",
      "Generation 7: Best Score = 0.9944444444444445\n",
      "Generation 8: Best Score = 0.9944444444444445\n",
      "Generation 9: Best Score = 0.9944444444444445\n",
      "Generation 10: Best Score = 0.9944444444444445\n",
      "Best Parameters: [6]\n"
     ]
    }
   ],
   "source": [
    "data = digit\n",
    "X = data.data\n",
    "y = data.target\n",
    "\n",
    "X_train, X_test, y_train, y_test = train_test_split(X, y, test_size=0.3, random_state=42)\n",
    "\n",
    "param_bounds = [(1, 10)] \n",
    "\n",
    "pop_size = 10\n",
    "num_generations = 10\n",
    "w = 0.5     #weight\n",
    "c1 = 1.5    #cognitive coefficient\n",
    "c2 = 1.5    #social coefficient\n",
    "mutation_rate = 0.1\n",
    "\n",
    "best_params= hybrid_ga_pso(X_train, y_train, X_test, y_test, param_bounds, pop_size, num_generations, w, c1, c2, mutation_rate)\n",
    "print(f\"Best Parameters: {best_params}\")\n"
   ]
  },
  {
   "cell_type": "code",
   "execution_count": 132,
   "metadata": {},
   "outputs": [],
   "source": [
    "model = KNeighborsClassifier(n_neighbors=6)\n",
    "model.fit(X_train, y_train)\n",
    "predictions = model.predict(X_test)"
   ]
  },
  {
   "cell_type": "code",
   "execution_count": 133,
   "metadata": {},
   "outputs": [
    {
     "data": {
      "text/plain": [
       "0.9944444444444445"
      ]
     },
     "execution_count": 133,
     "metadata": {},
     "output_type": "execute_result"
    }
   ],
   "source": [
    "model.score(X_test,y_test)"
   ]
  },
  {
   "cell_type": "code",
   "execution_count": 134,
   "metadata": {},
   "outputs": [],
   "source": [
    "from sklearn.metrics import confusion_matrix"
   ]
  },
  {
   "cell_type": "code",
   "execution_count": 135,
   "metadata": {},
   "outputs": [],
   "source": [
    "y_predict=model.predict(X_test)\n",
    "cm=confusion_matrix(y_test,y_predict)"
   ]
  },
  {
   "cell_type": "code",
   "execution_count": 136,
   "metadata": {},
   "outputs": [],
   "source": [
    "import seaborn as sns"
   ]
  },
  {
   "cell_type": "code",
   "execution_count": 137,
   "metadata": {},
   "outputs": [
    {
     "data": {
      "text/plain": [
       "Text(69.0, 0.5, 'Predicted')"
      ]
     },
     "execution_count": 137,
     "metadata": {},
     "output_type": "execute_result"
    },
    {
     "data": {
      "image/png": "[encoded data removed]",
      "text/plain": [
       "<Figure size 720x504 with 2 Axes>"
      ]
     },
     "metadata": {
      "needs_background": "light"
     },
     "output_type": "display_data"
    }
   ],
   "source": [
    "plt.figure(figsize=(10,7))\n",
    "sns.heatmap(cm,annot=True)\n",
    "plt.xlabel(\"Actual\")\n",
    "plt.ylabel(\"Predicted\")"
   ]
  },
  {
   "cell_type": "markdown",
   "metadata": {},
   "source": [
    "## We can see the accuracy is well enough it has only 3 outliers in train model"
   ]
  }
 ],
 "metadata": {
  "kernelspec": {
   "display_name": "Python 3",
   "language": "python",
   "name": "python3"
  },
  "language_info": {
   "codemirror_mode": {
    "name": "ipython",
    "version": 3
   },
   "file_extension": ".py",
   "mimetype": "text/x-python",
   "name": "python",
   "nbconvert_exporter": "python",
   "pygments_lexer": "ipython3",
   "version": "3.10.1"
  }
 },
 "nbformat": 4,
 "nbformat_minor": 2
}
